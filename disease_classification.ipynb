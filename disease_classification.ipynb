{
  "nbformat": 4,
  "nbformat_minor": 0,
  "metadata": {
    "colab": {
      "provenance": [],
      "authorship_tag": "ABX9TyMysi6MPvH4V6vFutwwKk4V",
      "include_colab_link": true
    },
    "kernelspec": {
      "name": "python3",
      "display_name": "Python 3"
    },
    "language_info": {
      "name": "python"
    }
  },
  "cells": [
    {
      "cell_type": "markdown",
      "metadata": {
        "id": "view-in-github",
        "colab_type": "text"
      },
      "source": [
        "<a href=\"https://colab.research.google.com/github/diptisharnagat/AIH/blob/main/disease_classification.ipynb\" target=\"_parent\"><img src=\"https://colab.research.google.com/assets/colab-badge.svg\" alt=\"Open In Colab\"/></a>"
      ]
    },
    {
      "cell_type": "code",
      "execution_count": 1,
      "metadata": {
        "colab": {
          "base_uri": "https://localhost:8080/"
        },
        "id": "EOQ2_pfP5u3_",
        "outputId": "9cf53fc4-a380-4f80-a3bb-7ef9458df3e6"
      },
      "outputs": [
        {
          "output_type": "stream",
          "name": "stdout",
          "text": [
            "Accuracy: 0.525974025974026\n",
            "Classification Report:\n",
            "              precision    recall  f1-score   support\n",
            "\n",
            "           0       0.59      0.96      0.73        84\n",
            "          14       0.00      0.00      0.00         0\n",
            "          15       0.00      0.00      0.00         1\n",
            "          16       0.00      0.00      0.00         1\n",
            "          36       0.00      0.00      0.00         1\n",
            "          40       0.00      0.00      0.00         1\n",
            "          45       0.00      0.00      0.00         1\n",
            "          46       0.00      0.00      0.00         1\n",
            "          49       0.00      0.00      0.00         2\n",
            "          52       0.00      0.00      0.00         1\n",
            "          55       0.00      0.00      0.00         1\n",
            "          56       0.00      0.00      0.00         1\n",
            "          57       0.00      0.00      0.00         1\n",
            "          59       0.00      0.00      0.00         1\n",
            "          64       0.00      0.00      0.00         1\n",
            "          65       0.00      0.00      0.00         0\n",
            "          66       0.00      0.00      0.00         1\n",
            "          67       0.00      0.00      0.00         2\n",
            "          70       0.00      0.00      0.00         1\n",
            "          71       0.00      0.00      0.00         1\n",
            "          76       0.00      0.00      0.00         2\n",
            "          85       0.00      0.00      0.00         1\n",
            "          87       0.00      0.00      0.00         1\n",
            "          92       0.00      0.00      0.00         2\n",
            "          95       0.00      0.00      0.00         1\n",
            "         100       0.00      0.00      0.00         1\n",
            "         106       0.00      0.00      0.00         0\n",
            "         115       0.00      0.00      0.00         1\n",
            "         120       0.00      0.00      0.00         1\n",
            "         122       0.00      0.00      0.00         1\n",
            "         125       0.00      0.00      0.00         1\n",
            "         126       0.00      0.00      0.00         2\n",
            "         128       0.00      0.00      0.00         1\n",
            "         130       0.00      0.00      0.00         2\n",
            "         135       0.00      0.00      0.00         0\n",
            "         145       0.00      0.00      0.00         1\n",
            "         150       0.00      0.00      0.00         1\n",
            "         156       0.00      0.00      0.00         0\n",
            "         158       0.00      0.00      0.00         0\n",
            "         159       0.00      0.00      0.00         0\n",
            "         160       0.00      0.00      0.00         1\n",
            "         165       0.00      0.00      0.00         2\n",
            "         167       0.00      0.00      0.00         1\n",
            "         170       0.00      0.00      0.00         0\n",
            "         171       0.00      0.00      0.00         1\n",
            "         176       0.00      0.00      0.00         1\n",
            "         180       0.00      0.00      0.00         1\n",
            "         182       0.00      0.00      0.00         1\n",
            "         185       0.00      0.00      0.00         1\n",
            "         188       0.00      0.00      0.00         1\n",
            "         190       0.00      0.00      0.00         2\n",
            "         194       0.00      0.00      0.00         1\n",
            "         200       0.00      0.00      0.00         1\n",
            "         205       0.00      0.00      0.00         1\n",
            "         207       0.00      0.00      0.00         1\n",
            "         210       0.00      0.00      0.00         1\n",
            "         231       0.00      0.00      0.00         1\n",
            "         245       0.00      0.00      0.00         1\n",
            "         258       0.00      0.00      0.00         1\n",
            "         265       0.00      0.00      0.00         1\n",
            "         271       0.00      0.00      0.00         1\n",
            "         277       0.00      0.00      0.00         1\n",
            "         293       0.00      0.00      0.00         1\n",
            "         304       0.00      0.00      0.00         0\n",
            "         318       0.00      0.00      0.00         1\n",
            "         325       0.00      0.00      0.00         1\n",
            "         326       0.00      0.00      0.00         1\n",
            "         342       0.00      0.00      0.00         1\n",
            "         360       0.00      0.00      0.00         1\n",
            "         478       0.00      0.00      0.00         1\n",
            "         480       0.00      0.00      0.00         1\n",
            "         579       0.00      0.00      0.00         1\n",
            "\n",
            "    accuracy                           0.53       154\n",
            "   macro avg       0.01      0.01      0.01       154\n",
            "weighted avg       0.32      0.53      0.40       154\n",
            "\n"
          ]
        },
        {
          "output_type": "stream",
          "name": "stderr",
          "text": [
            "/usr/local/lib/python3.10/dist-packages/sklearn/metrics/_classification.py:1344: UndefinedMetricWarning: Precision and F-score are ill-defined and being set to 0.0 in labels with no predicted samples. Use `zero_division` parameter to control this behavior.\n",
            "  _warn_prf(average, modifier, msg_start, len(result))\n",
            "/usr/local/lib/python3.10/dist-packages/sklearn/metrics/_classification.py:1344: UndefinedMetricWarning: Recall and F-score are ill-defined and being set to 0.0 in labels with no true samples. Use `zero_division` parameter to control this behavior.\n",
            "  _warn_prf(average, modifier, msg_start, len(result))\n",
            "/usr/local/lib/python3.10/dist-packages/sklearn/metrics/_classification.py:1344: UndefinedMetricWarning: Precision and F-score are ill-defined and being set to 0.0 in labels with no predicted samples. Use `zero_division` parameter to control this behavior.\n",
            "  _warn_prf(average, modifier, msg_start, len(result))\n",
            "/usr/local/lib/python3.10/dist-packages/sklearn/metrics/_classification.py:1344: UndefinedMetricWarning: Recall and F-score are ill-defined and being set to 0.0 in labels with no true samples. Use `zero_division` parameter to control this behavior.\n",
            "  _warn_prf(average, modifier, msg_start, len(result))\n",
            "/usr/local/lib/python3.10/dist-packages/sklearn/metrics/_classification.py:1344: UndefinedMetricWarning: Precision and F-score are ill-defined and being set to 0.0 in labels with no predicted samples. Use `zero_division` parameter to control this behavior.\n",
            "  _warn_prf(average, modifier, msg_start, len(result))\n",
            "/usr/local/lib/python3.10/dist-packages/sklearn/metrics/_classification.py:1344: UndefinedMetricWarning: Recall and F-score are ill-defined and being set to 0.0 in labels with no true samples. Use `zero_division` parameter to control this behavior.\n",
            "  _warn_prf(average, modifier, msg_start, len(result))\n"
          ]
        }
      ],
      "source": [
        "# Import necessary libraries\n",
        "import pandas as pd\n",
        "import numpy as np\n",
        "from sklearn.model_selection import train_test_split\n",
        "from sklearn.ensemble import RandomForestClassifier\n",
        "from sklearn.metrics import accuracy_score, classification_report\n",
        "\n",
        "# Load your dataset (you need to have a dataset with relevant features)\n",
        "# For this example, let's assume you have a CSV file named \"diabetes_dataset.csv\"\n",
        "# Replace 'your_data.csv' with your dataset file path.\n",
        "data = pd.read_csv('diabetes.csv')\n",
        "\n",
        "# Split the data into features (X) and target (y)\n",
        "X = data.drop('Insulin', axis=1)\n",
        " # Replace 'Diabetes' with your target column name\n",
        "y = data['Insulin']\n",
        "\n",
        "# Split the data into training and testing sets\n",
        "X_train, X_test, y_train, y_test = train_test_split(X, y, test_size=0.2, random_state=42)\n",
        "\n",
        "# Create and train a random forest classifier (you can choose a different classifier as needed)\n",
        "clf = RandomForestClassifier(n_estimators=100, random_state=42)\n",
        "clf.fit(X_train, y_train)\n",
        "\n",
        "# Make predictions on the test set\n",
        "y_pred = clf.predict(X_test)\n",
        "\n",
        "# Evaluate the model's performance\n",
        "accuracy = accuracy_score(y_test, y_pred)\n",
        "classification_rep = classification_report(y_test, y_pred)\n",
        "\n",
        "# Print the results\n",
        "print(f'Accuracy: {accuracy}')\n",
        "print(f'Classification Report:\\n{classification_rep}')"
      ]
    }
  ]
}