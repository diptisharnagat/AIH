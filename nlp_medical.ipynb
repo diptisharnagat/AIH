{
  "nbformat": 4,
  "nbformat_minor": 0,
  "metadata": {
    "colab": {
      "provenance": [],
      "authorship_tag": "ABX9TyO83GGAGxFNjv9/1V6MDobe",
      "include_colab_link": true
    },
    "kernelspec": {
      "name": "python3",
      "display_name": "Python 3"
    },
    "language_info": {
      "name": "python"
    }
  },
  "cells": [
    {
      "cell_type": "markdown",
      "metadata": {
        "id": "view-in-github",
        "colab_type": "text"
      },
      "source": [
        "<a href=\"https://colab.research.google.com/github/diptisharnagat/AIH/blob/main/nlp_medical.ipynb\" target=\"_parent\"><img src=\"https://colab.research.google.com/assets/colab-badge.svg\" alt=\"Open In Colab\"/></a>"
      ]
    },
    {
      "cell_type": "code",
      "execution_count": 8,
      "metadata": {
        "colab": {
          "base_uri": "https://localhost:8080/",
          "height": 158
        },
        "id": "TyleG-cot5kE",
        "outputId": "b19dd817-41f8-42c6-e9d6-cb72b9e2b030"
      },
      "outputs": [
        {
          "output_type": "error",
          "ename": "SyntaxError",
          "evalue": "ignored",
          "traceback": [
            "\u001b[0;36m  File \u001b[0;32m\"<ipython-input-8-2eeba47606f3>\"\u001b[0;36m, line \u001b[0;32m5\u001b[0m\n\u001b[0;31m    https://s3-us-west-2.amazonaws.com/ai2-s2-scispacy releases/v0.5.1/en_core sci_md-0.5.1.tar.gz\u001b[0m\n\u001b[0m                        ^\u001b[0m\n\u001b[0;31mSyntaxError\u001b[0m\u001b[0;31m:\u001b[0m invalid decimal literal\n"
          ]
        }
      ],
      "source": [
        "# Install spacy and required models\n",
        "!pip install -U spacy\n",
        "# Install pre-trained models for medical text processing\n",
        "!pip install\n",
        "https://s3-us-west-2.amazonaws.com/ai2-s2-scispacy/ releases/v0.5.1/en_core _sci_md-0.5.1.tar.gz\n",
        "!pip install\n",
        "https://s3-us-west-2.amazonaws.com/ai2-s2-scispacy/releases/v0.5.1/en_core_sci_md-0.5.1.tar.gz\n",
        "!pip install\n",
        "https://s3-us-west-2.amazonaws.com/ai2-s2-scispacy/releases/v0.5.1/en_ner_bc5cdr_md-0.5.1.tar.gz\n",
        "!pip install render\n",
        "import spacy"
      ]
    },
    {
      "cell_type": "code",
      "source": [
        "#Core model\n",
        "import en_core_sci_sm\n",
        "import en_core_sci_md\n",
        "#NER specific models\n",
        "import en_ner_bc5cdr_md\n",
        "#Tools for extracting & displaying data\n",
        "from spacy import displacy\n",
        "import pandas as pd\n",
        "import render\n",
        "text=\"The patient was diagnosed with Type 2 diabetes and prescribed Metformin 500mg to manage their blood sugar levels.\"\n",
        "nlp_sm = en_core_sci_sm.load()\n",
        "doc = nlp_sm(text)\n",
        "doc\n",
        ""
      ],
      "metadata": {
        "id": "2orB7vPCyOKZ"
      },
      "execution_count": null,
      "outputs": []
    },
    {
      "cell_type": "code",
      "source": [
        "displacy_image = displacy.render(doc, jupyter=True,style='ent')\n"
      ],
      "metadata": {
        "id": "UScNxhumyfqx"
      },
      "execution_count": null,
      "outputs": []
    },
    {
      "cell_type": "code",
      "source": [
        "import en_core_sci_md\n",
        "from spacy import displacy\n",
        "nlp_md = en_core_sci_md.load()\n",
        "doc = nlp_md(text)\n",
        "#Display resulting entity extraction\n",
        "displacy_image = displacy.render(doc, jupyter=True,style='ent')\n",
        "for ent in doc.ents:\n",
        "   print(ent.text, ent.start_char, ent.end_char, ent.label_)"
      ],
      "metadata": {
        "id": "fHiQ8uDXyh2L"
      },
      "execution_count": null,
      "outputs": []
    },
    {
      "cell_type": "code",
      "source": [
        "nlp_bc = en_ner_bc5cdr_md.load()\n",
        "doc = nlp_bc(text)\n",
        "#Display resulting entity extraction\n",
        "displacy_image = displacy.render(doc, jupyter=True,style='ent')"
      ],
      "metadata": {
        "id": "K0OqF9xqytsZ"
      },
      "execution_count": null,
      "outputs": []
    }
  ]
}